{
  "nbformat": 4,
  "nbformat_minor": 0,
  "metadata": {
    "colab": {
      "name": "Task 4_Intermediate _Decision _Tree _Algorithm.ipynb",
      "private_outputs": true,
      "provenance": [],
      "authorship_tag": "ABX9TyMpJX/nAO/Bslrl4TDjawZr",
      "include_colab_link": true
    },
    "kernelspec": {
      "name": "python3",
      "display_name": "Python 3"
    },
    "language_info": {
      "name": "python"
    }
  },
  "cells": [
    {
      "cell_type": "markdown",
      "metadata": {
        "id": "view-in-github",
        "colab_type": "text"
      },
      "source": [
        "<a href=\"https://colab.research.google.com/github/chetnatambuskar/Datacket-Internship/blob/main/Task_4_Intermediate__Decision__Tree__Algorithm.ipynb\" target=\"_parent\"><img src=\"https://colab.research.google.com/assets/colab-badge.svg\" alt=\"Open In Colab\"/></a>"
      ]
    },
    {
      "cell_type": "code",
      "execution_count": null,
      "metadata": {
        "id": "2rBJJENfLSxw"
      },
      "outputs": [],
      "source": [
        "# Importing and fitting the model\n",
        "from sklearn import tree\n",
        "X = [[0, 0], [1, 1]]\n",
        "Y = [0, 1]\n",
        "d_tree = tree.DecisionTreeClassifier()\n",
        "d_tree = d_tree.fit(X, Y)"
      ]
    },
    {
      "cell_type": "code",
      "source": [
        "# Predicting the class of samples\n",
        "d_tree.predict([[2., 2.]])"
      ],
      "metadata": {
        "id": "hpdfY4OaLoFv"
      },
      "execution_count": null,
      "outputs": []
    },
    {
      "cell_type": "code",
      "source": [
        "# Constructing & Training the tree using the given \"Iris\" Dataset\n",
        "from sklearn.datasets import load_iris\n",
        "iris = load_iris()\n",
        "X, y = iris.data, iris.target\n",
        "d_tree= tree.DecisionTreeClassifier()\n",
        "d_tree = d_tree.fit(X, y)"
      ],
      "metadata": {
        "id": "WMcMz62kLt9k"
      },
      "execution_count": null,
      "outputs": []
    },
    {
      "cell_type": "code",
      "source": [
        "tree.plot_tree(d_tree)"
      ],
      "metadata": {
        "id": "uVQoJT3OLu99"
      },
      "execution_count": null,
      "outputs": []
    },
    {
      "cell_type": "code",
      "source": [
        "# Importing graphviz to help in Visualizing\n",
        "import graphviz \n",
        "dot_data = tree.export_graphviz(d_tree, out_file=None) \n",
        "graph = graphviz.Source(dot_data) \n",
        "graph.render(\"iris\")"
      ],
      "metadata": {
        "id": "OVl7W5pvL1Uo"
      },
      "execution_count": null,
      "outputs": []
    },
    {
      "cell_type": "code",
      "source": [
        "# Visualizing the Decision Tree\n",
        "dot_data = tree.export_graphviz(d_tree, out_file=None, \n",
        "                     feature_names=iris.feature_names,  \n",
        "                     class_names=iris.target_names,  \n",
        "                     filled=True, rounded=True,  \n",
        "                     special_characters=True)  \n",
        "graph = graphviz.Source(dot_data)  \n",
        "graph"
      ],
      "metadata": {
        "id": "U0iKZEmQL4he"
      },
      "execution_count": null,
      "outputs": []
    }
  ]
}