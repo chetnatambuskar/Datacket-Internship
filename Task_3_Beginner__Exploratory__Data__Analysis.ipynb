{
  "nbformat": 4,
  "nbformat_minor": 0,
  "metadata": {
    "colab": {
      "name": "Task 3_Beginner_ Exploratory_ Data _Analysis.ipynb",
      "private_outputs": true,
      "provenance": [],
      "authorship_tag": "ABX9TyOpKFCpJj9ddOSc3ApSEvvZ",
      "include_colab_link": true
    },
    "kernelspec": {
      "name": "python3",
      "display_name": "Python 3"
    },
    "language_info": {
      "name": "python"
    }
  },
  "cells": [
    {
      "cell_type": "markdown",
      "metadata": {
        "id": "view-in-github",
        "colab_type": "text"
      },
      "source": [
        "<a href=\"https://colab.research.google.com/github/chetnatambuskar/Datacket-Internship/blob/main/Task_3_Beginner__Exploratory__Data__Analysis.ipynb\" target=\"_parent\"><img src=\"https://colab.research.google.com/assets/colab-badge.svg\" alt=\"Open In Colab\"/></a>"
      ]
    },
    {
      "cell_type": "code",
      "execution_count": null,
      "metadata": {
        "id": "RcIAtOnOJ4RF"
      },
      "outputs": [],
      "source": [
        "import pandas as pd\n",
        "import numpy as np\n",
        "import seaborn as sns"
      ]
    },
    {
      "cell_type": "code",
      "source": [
        "data = pd.read_csv('/content/SampleSuperstore.csv')\n",
        "data.head()"
      ],
      "metadata": {
        "id": "QdsZ2z5fKBqu"
      },
      "execution_count": null,
      "outputs": []
    },
    {
      "cell_type": "code",
      "source": [
        "data.tail()"
      ],
      "metadata": {
        "id": "3FUQOg14KZIX"
      },
      "execution_count": null,
      "outputs": []
    },
    {
      "cell_type": "code",
      "source": [
        "data.shape"
      ],
      "metadata": {
        "id": "wUKbOTsUKcLr"
      },
      "execution_count": null,
      "outputs": []
    },
    {
      "cell_type": "code",
      "source": [
        "data.describe()"
      ],
      "metadata": {
        "id": "jcsoz_LkKg0T"
      },
      "execution_count": null,
      "outputs": []
    },
    {
      "cell_type": "code",
      "source": [
        "data.columns"
      ],
      "metadata": {
        "id": "XjHn9pPmKjGa"
      },
      "execution_count": null,
      "outputs": []
    },
    {
      "cell_type": "code",
      "source": [
        "data.nunique()"
      ],
      "metadata": {
        "id": "mUd7HZaRKllt"
      },
      "execution_count": null,
      "outputs": []
    },
    {
      "cell_type": "code",
      "source": [
        "data['Ship Mode'].unique()\n"
      ],
      "metadata": {
        "id": "IpENl62fKoMC"
      },
      "execution_count": null,
      "outputs": []
    },
    {
      "cell_type": "code",
      "source": [
        "data.isnull().sum()"
      ],
      "metadata": {
        "id": "mCx-9PIsKuwm"
      },
      "execution_count": null,
      "outputs": []
    },
    {
      "cell_type": "code",
      "source": [
        "df1 = data.drop(['Country','Segment'],axis=1)\n",
        "df1.head()"
      ],
      "metadata": {
        "id": "CsyM8CdtKyKA"
      },
      "execution_count": null,
      "outputs": []
    },
    {
      "cell_type": "code",
      "source": [
        "correlation = df1.corr()\n",
        "sns.heatmap(correlation, xticklabels=correlation.columns, yticklabels=correlation.columns,annot=True)"
      ],
      "metadata": {
        "id": "A929kAyMK1JG"
      },
      "execution_count": null,
      "outputs": []
    },
    {
      "cell_type": "code",
      "source": [
        "sns.pairplot(df1)"
      ],
      "metadata": {
        "id": "s5FhzhvOK5e9"
      },
      "execution_count": null,
      "outputs": []
    },
    {
      "cell_type": "code",
      "source": [
        "sns.relplot(x= 'Sales', y='Quantity', hue='Category', data = df1)"
      ],
      "metadata": {
        "id": "gsyR-uMhK-ir"
      },
      "execution_count": null,
      "outputs": []
    },
    {
      "cell_type": "code",
      "source": [
        "sns.distplot(df1['Sales'])"
      ],
      "metadata": {
        "id": "YZs6_jtxLBjH"
      },
      "execution_count": null,
      "outputs": []
    },
    {
      "cell_type": "code",
      "source": [
        "sns.catplot(x='Sales', kind= 'box', data=df1)"
      ],
      "metadata": {
        "id": "yInmYuMGLGFG"
      },
      "execution_count": null,
      "outputs": []
    }
  ]
}